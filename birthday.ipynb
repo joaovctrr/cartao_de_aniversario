{
 "cells": [
  {
   "cell_type": "code",
   "execution_count": null,
   "metadata": {},
   "outputs": [],
   "source": [
    "import openpyxl\n",
    "from PIL import Image, ImageDraw, ImageFont\n",
    "import datetime"
   ]
  },
  {
   "cell_type": "code",
   "execution_count": null,
   "metadata": {},
   "outputs": [],
   "source": [
    "aniversarios = openpyxl.load_workbook('aniversario.xlsx')  \n",
    "aniversario = aniversarios['Planilha1']"
   ]
  },
  {
   "cell_type": "code",
   "execution_count": null,
   "metadata": {},
   "outputs": [],
   "source": [
    "# Função para obter o nome do mês em português\n",
    "def mes_em_portugues(numero_mes):\n",
    "    meses = [\n",
    "        \"janeiro\", \"fevereiro\", \"março\", \"abril\", \"maio\", \"junho\",\n",
    "        \"julho\", \"agosto\", \"setembro\", \"outubro\", \"novembro\", \"dezembro\"\n",
    "    ]\n",
    "    return meses[numero_mes - 1]\n",
    "\n",
    "for indice, linha in enumerate(aniversario.iter_rows(min_row=2), start=1):\n",
    "    pronome = linha[0].value # Pronome (Ao/À)\n",
    "    nome = linha[1].value # Nome\n",
    "    data_aniversario = linha[2].value # Aniversario\n",
    "    \n",
    "    if isinstance(data_aniversario, str):\n",
    "        data_aniversario = datetime.strptime(data_aniversario, '%d-%m-%Y')\n",
    "\n",
    "    dia = data_aniversario.day\n",
    "    numero_mes = data_aniversario.month\n",
    "    ano = data_aniversario.year\n",
    "\n",
    "    # Obter o nome do mês em português\n",
    "    mes_extenso = mes_em_portugues(numero_mes)\n",
    "\n",
    "    print(nome, dia, 'de', mes_extenso, 'de', ano)\n",
    "\n",
    "    fonte_nome = ImageFont.truetype('./LCALLIG.TTF',40)\n",
    "    fonte_data = ImageFont.truetype('./LCALLIG.TTF',30)\n",
    "\n",
    "    image = Image.open('./cartao_aniversario.jpeg')\n",
    "    desenhar = ImageDraw.Draw(image)\n",
    "    if pronome == 'Ao':\n",
    "        desenhar.text((35, 245), pronome,fill='black',font=fonte_nome)\n",
    "        desenhar.text((110, 245), nome,fill='black',font=fonte_nome)\n",
    "        desenhar.text((900, 734),str(f'{dia} de {mes_extenso} de {ano}'), fill='black',font=fonte_data)\n",
    "\n",
    "    elif pronome == 'À':\n",
    "        desenhar.text((35, 245), pronome,fill='black',font=fonte_nome)\n",
    "        desenhar.text((85, 245), nome,fill='black',font=fonte_nome)\n",
    "        desenhar.text((900, 734),str(f'{dia} de {mes_extenso} de {ano}'), fill='black',font=fonte_data)\n",
    "\n",
    "\n",
    "    image.save(f'./cartoes/{dia}_{nome}_aniversario.png')"
   ]
  }
 ],
 "metadata": {
  "language_info": {
   "name": "python"
  }
 },
 "nbformat": 4,
 "nbformat_minor": 2
}
